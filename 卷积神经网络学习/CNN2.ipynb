{
 "cells": [
  {
   "cell_type": "markdown",
   "metadata": {},
   "source": [
    "简单介绍一下卷积的常用trick：\n",
    "- Padding\n",
    "- Striding\n",
    "\n",
    "下方是输入输出公式（本人开始也很困惑，找到对应公式后，就十分明朗了）：\n",
    "\n",
    "n:原始输入的维度 | f:卷积核的大小 | p：padding的大小| s:stride的大小\n",
    "\n",
    "no padding: n - f + 1\n",
    "\n",
    "padding: n + 2*p -f + 1\n",
    "\n",
    "stride with padding : (n+2*p−f)/s + 1 (该公式包含了上述两种情况)"
   ]
  },
  {
   "cell_type": "markdown",
   "metadata": {},
   "source": [
    "#### MNIST"
   ]
  },
  {
   "cell_type": "code",
   "execution_count": 3,
   "metadata": {},
   "outputs": [
    {
     "name": "stderr",
     "output_type": "stream",
     "text": [
      "100%|██████████| 9.91M/9.91M [00:08<00:00, 1.14MB/s]\n",
      "100%|██████████| 28.9k/28.9k [00:00<00:00, 136kB/s]\n",
      "100%|██████████| 1.65M/1.65M [00:01<00:00, 1.09MB/s]\n",
      "100%|██████████| 4.54k/4.54k [00:00<00:00, 1.48MB/s]\n",
      "c:\\Users\\33398\\.conda\\envs\\transformer\\lib\\site-packages\\torchvision\\datasets\\mnist.py:76: UserWarning: train_data has been renamed data\n",
      "  warnings.warn(\"train_data has been renamed data\")\n"
     ]
    },
    {
     "name": "stdout",
     "output_type": "stream",
     "text": [
      "torch.Size([60000, 28, 28])\n"
     ]
    },
    {
     "data": {
      "image/png": "[encoded data removed]",
      "text/plain": [
       "<Figure size 640x480 with 1 Axes>"
      ]
     },
     "metadata": {},
     "output_type": "display_data"
    },
    {
     "name": "stdout",
     "output_type": "stream",
     "text": [
      "torch.Size([10000, 28, 28])\n"
     ]
    },
    {
     "name": "stderr",
     "output_type": "stream",
     "text": [
      "c:\\Users\\33398\\.conda\\envs\\transformer\\lib\\site-packages\\torchvision\\datasets\\mnist.py:81: UserWarning: test_data has been renamed data\n",
      "  warnings.warn(\"test_data has been renamed data\")\n",
      "c:\\Users\\33398\\.conda\\envs\\transformer\\lib\\site-packages\\torchvision\\datasets\\mnist.py:71: UserWarning: test_labels has been renamed targets\n",
      "  warnings.warn(\"test_labels has been renamed targets\")\n"
     ]
    }
   ],
   "source": [
    "import torch\n",
    "import torch.nn as nn\n",
    "import torch.utils.data as Data\n",
    "import torchvision\n",
    "import matplotlib.pyplot as plt\n",
    "\n",
    "torch.manual_seed(1)   # 为了每次的实验结果一致\n",
    "# 设置超参数\n",
    "epoches = 2\n",
    "batch_size = 50\n",
    "learning_rate = 0.001\n",
    "\n",
    "# 训练集\n",
    "train_data = torchvision.datasets.MNIST(\n",
    "    root=\"./mnist/\",  # 训练数据保存路径\n",
    "    train=True,       # True为下载训练数据集，False为下载测试数据集\n",
    "    transform=torchvision.transforms.ToTensor(),  # 数据范围已从(0-255)压缩到(0,1)\n",
    "    download=True,  # 是否需要下载\n",
    ")\n",
    "# 显示训练集中的第一张图片\n",
    "print(train_data.train_data.size())   # [60000,28,28]\n",
    "plt.imshow(train_data.train_data[0].numpy())\n",
    "plt.show()\n",
    "\n",
    "# 测试集\n",
    "test_data = torchvision.datasets.MNIST(root=\"./mnist/\", train=False)\n",
    "print(test_data.test_data.size())    # [10000, 28, 28]\n",
    "test_x = torch.unsqueeze(test_data.test_data, dim=1).type(torch.FloatTensor)/255\n",
    "test_y = test_data.test_labels\n",
    "\n",
    "# 将训练数据装入Loader中\n",
    "train_loader = train_loader = Data.DataLoader(dataset=train_data, batch_size=batch_size, shuffle=True, num_workers=3)\n"
   ]
  },
  {
   "cell_type": "code",
   "execution_count": 4,
   "metadata": {},
   "outputs": [],
   "source": [
    "class CNN(nn.Module):\n",
    "    def __init__(self):\n",
    "        super(CNN, self).__init__()   # 继承__init__功能\n",
    "        ## 第一层卷积\n",
    "        self.conv1 = nn.Sequential(\n",
    "            # 输入[1,28,28]\n",
    "            nn.Conv2d(\n",
    "                in_channels=1,    # 输入图片的高度\n",
    "                out_channels=16,  # 输出图片的高度\n",
    "                kernel_size=5,    # 5x5的卷积核，相当于过滤器\n",
    "                stride=1,         # 卷积核在图上滑动，每隔一个扫一次\n",
    "                padding=2,        # 给图外边补上0\n",
    "            ),\n",
    "            # 经过卷积层 输出[16,28,28] 传入池化层\n",
    "            nn.ReLU(),\n",
    "            nn.MaxPool2d(kernel_size=2)   # 经过池化 输出[16,14,14] 传入下一个卷积\n",
    "        )\n",
    "        ## 第二层卷积\n",
    "        self.conv2 = nn.Sequential(\n",
    "            nn.Conv2d(\n",
    "                in_channels=16,    # 同上\n",
    "                out_channels=32,\n",
    "                kernel_size=5,\n",
    "                stride=1,\n",
    "                padding=2\n",
    "            ),\n",
    "            # 经过卷积 输出[32, 14, 14] 传入池化层\n",
    "            nn.ReLU(),\n",
    "            nn.MaxPool2d(kernel_size=2)  # 经过池化 输出[32,7,7] 传入输出层\n",
    "        )\n",
    "        ## 输出层\n",
    "        self.output = nn.Linear(in_features=32*7*7, out_features=10)\n",
    "\n",
    "    def forward(self, x):\n",
    "        x = self.conv1(x)\n",
    "        x = self.conv2(x)           # [batch, 32,7,7]\n",
    "        x = x.view(x.size(0), -1)   # 保留batch, 将后面的乘到一起 [batch, 32*7*7]\n",
    "        output = self.output(x)     # 输出[50,10]\n",
    "        return output\n"
   ]
  },
  {
   "cell_type": "code",
   "execution_count": 5,
   "metadata": {},
   "outputs": [
    {
     "name": "stdout",
     "output_type": "stream",
     "text": [
      "CNN(\n",
      "  (conv1): Sequential(\n",
      "    (0): Conv2d(1, 16, kernel_size=(5, 5), stride=(1, 1), padding=(2, 2))\n",
      "    (1): ReLU()\n",
      "    (2): MaxPool2d(kernel_size=2, stride=2, padding=0, dilation=1, ceil_mode=False)\n",
      "  )\n",
      "  (conv2): Sequential(\n",
      "    (0): Conv2d(16, 32, kernel_size=(5, 5), stride=(1, 1), padding=(2, 2))\n",
      "    (1): ReLU()\n",
      "    (2): MaxPool2d(kernel_size=2, stride=2, padding=0, dilation=1, ceil_mode=False)\n",
      "  )\n",
      "  (output): Linear(in_features=1568, out_features=10, bias=True)\n",
      ")\n",
      "进行第0个epoch\n",
      "Epoch:  0 | train loss: 2.3034 | test accuracy: 0.14\n",
      "Epoch:  0 | train loss: 0.4083 | test accuracy: 0.85\n",
      "Epoch:  0 | train loss: 0.5555 | test accuracy: 0.89\n",
      "Epoch:  0 | train loss: 0.2239 | test accuracy: 0.93\n",
      "Epoch:  0 | train loss: 0.1272 | test accuracy: 0.95\n",
      "Epoch:  0 | train loss: 0.1649 | test accuracy: 0.96\n",
      "Epoch:  0 | train loss: 0.0559 | test accuracy: 0.96\n",
      "Epoch:  0 | train loss: 0.1248 | test accuracy: 0.97\n",
      "Epoch:  0 | train loss: 0.0344 | test accuracy: 0.97\n",
      "Epoch:  0 | train loss: 0.1005 | test accuracy: 0.97\n",
      "Epoch:  0 | train loss: 0.1840 | test accuracy: 0.97\n",
      "Epoch:  0 | train loss: 0.0937 | test accuracy: 0.97\n",
      "Epoch:  0 | train loss: 0.0188 | test accuracy: 0.98\n",
      "Epoch:  0 | train loss: 0.1433 | test accuracy: 0.98\n",
      "Epoch:  0 | train loss: 0.0942 | test accuracy: 0.98\n",
      "Epoch:  0 | train loss: 0.2115 | test accuracy: 0.97\n",
      "Epoch:  0 | train loss: 0.0398 | test accuracy: 0.97\n",
      "Epoch:  0 | train loss: 0.0506 | test accuracy: 0.98\n",
      "Epoch:  0 | train loss: 0.0998 | test accuracy: 0.98\n",
      "Epoch:  0 | train loss: 0.0221 | test accuracy: 0.98\n",
      "Epoch:  0 | train loss: 0.1979 | test accuracy: 0.98\n",
      "Epoch:  0 | train loss: 0.0303 | test accuracy: 0.98\n",
      "Epoch:  0 | train loss: 0.0221 | test accuracy: 0.98\n",
      "Epoch:  0 | train loss: 0.0762 | test accuracy: 0.98\n",
      "进行第1个epoch\n",
      "Epoch:  1 | train loss: 0.0333 | test accuracy: 0.98\n",
      "Epoch:  1 | train loss: 0.0364 | test accuracy: 0.98\n",
      "Epoch:  1 | train loss: 0.0126 | test accuracy: 0.98\n",
      "Epoch:  1 | train loss: 0.1531 | test accuracy: 0.98\n",
      "Epoch:  1 | train loss: 0.1063 | test accuracy: 0.98\n",
      "Epoch:  1 | train loss: 0.0317 | test accuracy: 0.98\n",
      "Epoch:  1 | train loss: 0.0087 | test accuracy: 0.98\n",
      "Epoch:  1 | train loss: 0.0124 | test accuracy: 0.98\n",
      "Epoch:  1 | train loss: 0.0345 | test accuracy: 0.98\n",
      "Epoch:  1 | train loss: 0.0291 | test accuracy: 0.99\n",
      "Epoch:  1 | train loss: 0.0273 | test accuracy: 0.98\n",
      "Epoch:  1 | train loss: 0.0148 | test accuracy: 0.99\n",
      "Epoch:  1 | train loss: 0.0490 | test accuracy: 0.98\n",
      "Epoch:  1 | train loss: 0.0395 | test accuracy: 0.98\n",
      "Epoch:  1 | train loss: 0.0179 | test accuracy: 0.99\n",
      "Epoch:  1 | train loss: 0.0262 | test accuracy: 0.99\n",
      "Epoch:  1 | train loss: 0.0437 | test accuracy: 0.99\n",
      "Epoch:  1 | train loss: 0.0265 | test accuracy: 0.98\n",
      "Epoch:  1 | train loss: 0.0122 | test accuracy: 0.99\n",
      "Epoch:  1 | train loss: 0.0498 | test accuracy: 0.99\n",
      "Epoch:  1 | train loss: 0.0836 | test accuracy: 0.99\n",
      "Epoch:  1 | train loss: 0.0378 | test accuracy: 0.98\n",
      "Epoch:  1 | train loss: 0.0053 | test accuracy: 0.99\n",
      "Epoch:  1 | train loss: 0.0385 | test accuracy: 0.99\n",
      "[7 2 1 0 4 1 4 9 5 9]\n",
      "tensor([7, 2, 1, 0, 4, 1, 4, 9, 5, 9])\n"
     ]
    }
   ],
   "source": [
    "def main():\n",
    "    # cnn 实例化\n",
    "    cnn = CNN()\n",
    "    print(cnn)\n",
    "\n",
    "    # 定义优化器和损失函数\n",
    "    optimizer = torch.optim.Adam(cnn.parameters(), lr=learning_rate)\n",
    "    loss_function = nn.CrossEntropyLoss()\n",
    "\n",
    "    # 开始训练\n",
    "    for epoch in range(epoches):\n",
    "        print(\"进行第{}个epoch\".format(epoch))\n",
    "        for step, (batch_x, batch_y) in enumerate(train_loader):\n",
    "            output = cnn(batch_x)  # batch_x=[50,1,28,28]\n",
    "            loss = loss_function(output, batch_y)\n",
    "            optimizer.zero_grad()\n",
    "            loss.backward()\n",
    "            optimizer.step()\n",
    "\t\t\t# 为了实时显示准确率\n",
    "            if step % 50 == 0:\n",
    "                test_output = cnn(test_x)\n",
    "                pred_y = torch.max(test_output, 1)[1].data.numpy()\n",
    "                accuracy = ((pred_y == test_y.data.numpy()).astype(int).sum()) / float(test_y.size(0))\n",
    "                print('Epoch: ', epoch, '| train loss: %.4f' % loss.data.numpy(), '| test accuracy: %.2f' % accuracy)\n",
    "\n",
    "\n",
    "    test_output = cnn(test_x[:10])\n",
    "    pred_y = torch.max(test_output, 1)[1].data.numpy().squeeze()\n",
    "    print(pred_y)\n",
    "    print(test_y[:10])\n",
    "\n",
    "if __name__ == \"__main__\":\n",
    "    main()\n"
   ]
  },
  {
   "cell_type": "code",
   "execution_count": null,
   "metadata": {},
   "outputs": [],
   "source": []
  }
 ],
 "metadata": {
  "kernelspec": {
   "display_name": "Python 3",
   "language": "python",
   "name": "python3"
  },
  "language_info": {
   "codemirror_mode": {
    "name": "ipython",
    "version": 3
   },
   "file_extension": ".py",
   "mimetype": "text/x-python",
   "name": "python",
   "nbconvert_exporter": "python",
   "pygments_lexer": "ipython3",
   "version": "3.10.16"
  }
 },
 "nbformat": 4,
 "nbformat_minor": 2
}
