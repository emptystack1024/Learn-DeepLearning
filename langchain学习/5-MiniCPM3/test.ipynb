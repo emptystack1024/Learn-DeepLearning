{
 "cells": [
  {
   "cell_type": "code",
   "execution_count": 3,
   "metadata": {},
   "outputs": [
    {
     "name": "stderr",
     "output_type": "stream",
     "text": [
      "The attention mask and the pad token id were not set. As a consequence, you may observe unexpected behavior. Please pass your input's `attention_mask` to obtain reliable results.\n",
      "Setting `pad_token_id` to `eos_token_id`:2 for open-end generation.\n",
      "The attention mask is not set and cannot be inferred from input because pad token is same as eos token. As a consequence, you may observe unexpected behavior. Please pass your input's `attention_mask` to obtain reliable results.\n",
      "The `seen_tokens` attribute is deprecated and will be removed in v4.41. Use the `cache_position` model input instead.\n",
      "`get_max_cache()` is deprecated for all Cache classes. Use `get_max_cache_shape()` instead. Calling `get_max_cache()` will raise error from v4.48\n"
     ]
    },
    {
     "name": "stdout",
     "output_type": "stream",
     "text": [
      "\n",
      "北京，这座古老而又现代的城市，拥有着丰富的历史文化遗产和现代化的城市风貌。以下是我为您推荐的五个必游景点，它们不仅能够让您领略北京的深厚文化底蕴，还能让您感受到这座城市的独特魅力。\n",
      "\n",
      "1. **故宫博物院**：作为世界上最大的古代宫殿建筑群，故宫不仅是中国古代皇家文化的象征，也是中国历史的重要见证。漫步于紫禁城之内，您将有机会欣赏到精美的古代建筑、珍贵的文物藏品以及丰富多彩的文化展览，感受中国古代皇家的辉煌与尊贵。\n",
      "\n",
      "2. **颐和园**：这座皇家园林是中国保存最完整的皇家园林，集山、水、建筑、园林艺术于一体，展现了中国古代园林艺术的精华。漫步在昆明湖畔，欣赏长廊的精美壁画，您将仿佛置身于一幅生动的山水画卷之中，感受皇家园林的宁静与雅致。\n",
      "\n",
      "3. **八达岭长城**：作为中华民族的象征，八达岭长城不仅是中国的骄傲，也是世界文化遗产之一。站在长城之上，远眺连绵起伏的山峦，您将感受到中华民族的坚韧与不屈，体验到“不到长城非好汉”的豪迈情怀。\n",
      "\n",
      "4. **天坛公园**：作为明清两代皇帝祭天祈年的场所，天坛以其独特的建筑风格和深厚的文化内涵吸引着无数游客。在这里，您可以参观祈年殿、皇穹宇等古建筑，了解中国古代的祭天文化，感受人与自然和谐共生的哲学思想。\n",
      "\n",
      "5. **北京动物园**：作为中国最大的城市动物园，北京动物园不仅拥有来自世界各地的珍稀动物，还设有儿童乐园、海洋世界等娱乐设施，是家庭出游、亲子游玩的绝佳选择。在这里，您可以近距离接触动物，了解动物的生态习性，感受大自然的神奇与美妙。\n",
      "\n",
      "以上五个景点仅仅是北京众多旅游资源中的一小部分，如果您对历史、文化、自然风光感兴趣，北京还有更多精彩等待着您的探索。希望我的推荐能帮助您规划一次难忘的北京之旅，让您在旅途中收获知识、快乐与美好回忆。\n"
     ]
    }
   ],
   "source": [
    "from modelscope import AutoModelForCausalLM, AutoTokenizer\n",
    "import torch\n",
    "\n",
    "path = \"./MiniCPM3-4B\"\n",
    "device = \"cuda\"\n",
    "\n",
    "tokenizer = AutoTokenizer.from_pretrained(path, trust_remote_code=True)\n",
    "model = AutoModelForCausalLM.from_pretrained(path, torch_dtype=torch.bfloat16, device_map=device, trust_remote_code=True)\n",
    "\n",
    "messages = [\n",
    "    {\"role\": \"user\", \"content\": \"推荐5个北京的景点。\"},\n",
    "]\n",
    "model_inputs = tokenizer.apply_chat_template(messages, return_tensors=\"pt\").to(device)\n",
    "\n",
    "model_outputs = model.generate(\n",
    "    model_inputs,\n",
    "    max_new_tokens=1024,\n",
    "    top_p=0.7,\n",
    "    temperature=0.7,\n",
    "    repetition_penalty=1.02\n",
    ")\n",
    "\n",
    "output_token_ids = [\n",
    "    model_outputs[i][len(model_inputs[i]):] for i in range(len(model_inputs))\n",
    "]\n",
    "\n",
    "responses = tokenizer.batch_decode(output_token_ids, skip_special_tokens=True)[0]\n",
    "print(responses)"
   ]
  },
  {
   "cell_type": "code",
   "execution_count": null,
   "metadata": {},
   "outputs": [],
   "source": []
  }
 ],
 "metadata": {
  "kernelspec": {
   "display_name": "ChatGLM",
   "language": "python",
   "name": "python3"
  },
  "language_info": {
   "codemirror_mode": {
    "name": "ipython",
    "version": 3
   },
   "file_extension": ".py",
   "mimetype": "text/x-python",
   "name": "python",
   "nbconvert_exporter": "python",
   "pygments_lexer": "ipython3",
   "version": "3.12.4"
  }
 },
 "nbformat": 4,
 "nbformat_minor": 2
}
